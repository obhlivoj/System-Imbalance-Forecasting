{
 "cells": [
  {
   "cell_type": "code",
   "execution_count": 38,
   "metadata": {},
   "outputs": [],
   "source": [
    "import sys\n",
    "import warnings\n",
    "warnings.simplefilter(\"ignore\")\n",
    "\n",
    "import numpy as np\n",
    "import pandas as pd\n",
    "from matplotlib import pylab as plt\n",
    "\n",
    "import sklearn\n",
    "sklearn.set_config(enable_metadata_routing=True)\n",
    "\n",
    "from mapie.metrics import regression_coverage_score, regression_mean_width_score\n",
    "from mapie.subsample import BlockBootstrap\n",
    "from mapie.regression import MapieTimeSeriesRegressor, MapieRegressor\n",
    "\n",
    "import torch\n",
    "import json\n",
    "import pickle\n",
    "\n",
    "from sklearn.metrics import mean_squared_error"
   ]
  },
  {
   "cell_type": "code",
   "execution_count": 4,
   "metadata": {},
   "outputs": [],
   "source": [
    "sys.path.append(r'C:\\Users\\obhlivoj\\DP\\System-Imbalance-Forecasting\\models\\xgboost')\n",
    "\n",
    "from config import get_config\n",
    "from train import get_ds, get_model\n",
    "\n",
    "path = r'C:\\Users\\obhlivoj\\DP\\System-Imbalance-Forecasting\\models\\xgboost'"
   ]
  },
  {
   "cell_type": "code",
   "execution_count": 28,
   "metadata": {},
   "outputs": [],
   "source": [
    "device = torch.device(\"cuda\" if torch.cuda.is_available() else \"cpu\")\n",
    "cfg = get_config()\n",
    "\n",
    "train, val, test = get_ds(cfg)\n",
    "x_train, y_train, hist_train = train\n",
    "x_val, y_val, hist_val = val\n",
    "x_test, y_test, hist_test = test\n",
    "\n",
    "# read json_info\n",
    "with open(f'{path}/final_params.json', 'r') as file:\n",
    "    best_params = json.load(file)\n",
    "\n",
    "for param, value in best_params['best_params'][0].items():\n",
    "    cfg[param] = value\n",
    "\n",
    "cfg['early_stopping_rounds'] = None\n",
    "model = get_model(cfg, device)\n",
    "# Load the pretrained weights\n",
    "# model.load_model(f\"{path}/weights_folder/weightsforward_1/xgb_model_1.json\")\n",
    "\n",
    "# config updates\n",
    "cfg['run'] = f\"mapie_test\"\n",
    "cfg['model_folder'] += cfg['run']"
   ]
  },
  {
   "cell_type": "code",
   "execution_count": 30,
   "metadata": {},
   "outputs": [],
   "source": [
    "cv_mapiets = BlockBootstrap(\n",
    "    n_resamplings=4, n_blocks=10, overlapping=False, random_state=69\n",
    ")\n",
    "\n",
    "alpha = 0.05"
   ]
  },
  {
   "cell_type": "code",
   "execution_count": 31,
   "metadata": {},
   "outputs": [
    {
     "data": {
      "text/html": [
       "<style>#sk-container-id-3 {color: black;}#sk-container-id-3 pre{padding: 0;}#sk-container-id-3 div.sk-toggleable {background-color: white;}#sk-container-id-3 label.sk-toggleable__label {cursor: pointer;display: block;width: 100%;margin-bottom: 0;padding: 0.3em;box-sizing: border-box;text-align: center;}#sk-container-id-3 label.sk-toggleable__label-arrow:before {content: \"▸\";float: left;margin-right: 0.25em;color: #696969;}#sk-container-id-3 label.sk-toggleable__label-arrow:hover:before {color: black;}#sk-container-id-3 div.sk-estimator:hover label.sk-toggleable__label-arrow:before {color: black;}#sk-container-id-3 div.sk-toggleable__content {max-height: 0;max-width: 0;overflow: hidden;text-align: left;background-color: #f0f8ff;}#sk-container-id-3 div.sk-toggleable__content pre {margin: 0.2em;color: black;border-radius: 0.25em;background-color: #f0f8ff;}#sk-container-id-3 input.sk-toggleable__control:checked~div.sk-toggleable__content {max-height: 200px;max-width: 100%;overflow: auto;}#sk-container-id-3 input.sk-toggleable__control:checked~label.sk-toggleable__label-arrow:before {content: \"▾\";}#sk-container-id-3 div.sk-estimator input.sk-toggleable__control:checked~label.sk-toggleable__label {background-color: #d4ebff;}#sk-container-id-3 div.sk-label input.sk-toggleable__control:checked~label.sk-toggleable__label {background-color: #d4ebff;}#sk-container-id-3 input.sk-hidden--visually {border: 0;clip: rect(1px 1px 1px 1px);clip: rect(1px, 1px, 1px, 1px);height: 1px;margin: -1px;overflow: hidden;padding: 0;position: absolute;width: 1px;}#sk-container-id-3 div.sk-estimator {font-family: monospace;background-color: #f0f8ff;border: 1px dotted black;border-radius: 0.25em;box-sizing: border-box;margin-bottom: 0.5em;}#sk-container-id-3 div.sk-estimator:hover {background-color: #d4ebff;}#sk-container-id-3 div.sk-parallel-item::after {content: \"\";width: 100%;border-bottom: 1px solid gray;flex-grow: 1;}#sk-container-id-3 div.sk-label:hover label.sk-toggleable__label {background-color: #d4ebff;}#sk-container-id-3 div.sk-serial::before {content: \"\";position: absolute;border-left: 1px solid gray;box-sizing: border-box;top: 0;bottom: 0;left: 50%;z-index: 0;}#sk-container-id-3 div.sk-serial {display: flex;flex-direction: column;align-items: center;background-color: white;padding-right: 0.2em;padding-left: 0.2em;position: relative;}#sk-container-id-3 div.sk-item {position: relative;z-index: 1;}#sk-container-id-3 div.sk-parallel {display: flex;align-items: stretch;justify-content: center;background-color: white;position: relative;}#sk-container-id-3 div.sk-item::before, #sk-container-id-3 div.sk-parallel-item::before {content: \"\";position: absolute;border-left: 1px solid gray;box-sizing: border-box;top: 0;bottom: 0;left: 50%;z-index: -1;}#sk-container-id-3 div.sk-parallel-item {display: flex;flex-direction: column;z-index: 1;position: relative;background-color: white;}#sk-container-id-3 div.sk-parallel-item:first-child::after {align-self: flex-end;width: 50%;}#sk-container-id-3 div.sk-parallel-item:last-child::after {align-self: flex-start;width: 50%;}#sk-container-id-3 div.sk-parallel-item:only-child::after {width: 0;}#sk-container-id-3 div.sk-dashed-wrapped {border: 1px dashed gray;margin: 0 0.4em 0.5em 0.4em;box-sizing: border-box;padding-bottom: 0.4em;background-color: white;}#sk-container-id-3 div.sk-label label {font-family: monospace;font-weight: bold;display: inline-block;line-height: 1.2em;}#sk-container-id-3 div.sk-label-container {text-align: center;}#sk-container-id-3 div.sk-container {/* jupyter's `normalize.less` sets `[hidden] { display: none; }` but bootstrap.min.css set `[hidden] { display: none !important; }` so we also need the `!important` here to be able to override the default hidden behavior on the sphinx rendered scikit-learn.org. See: https://github.com/scikit-learn/scikit-learn/issues/21755 */display: inline-block !important;position: relative;}#sk-container-id-3 div.sk-text-repr-fallback {display: none;}</style><div id=\"sk-container-id-3\" class=\"sk-top-container\"><div class=\"sk-text-repr-fallback\"><pre>MapieTimeSeriesRegressor(cv=BlockBootstrap(length=None, n_blocks=10, n_resamplings=4, overlapping=False,\n",
       "        random_state=69),\n",
       "                         estimator=XGBRegressor(base_score=None, booster=None,\n",
       "                                                callbacks=None,\n",
       "                                                colsample_bylevel=None,\n",
       "                                                colsample_bynode=None,\n",
       "                                                colsample_bytree=None,\n",
       "                                                device=&#x27;cuda&#x27;,\n",
       "                                                early_stopping_rounds=None,\n",
       "                                                enable_categorical=False,\n",
       "                                                eval_metric=[&#x27;mae&#x27;, &#x27;rmse&#x27;],\n",
       "                                                featu...\n",
       "                                                grow_policy=None,\n",
       "                                                importance_type=None,\n",
       "                                                interaction_constraints=None,\n",
       "                                                learning_rate=0.06,\n",
       "                                                max_bin=None,\n",
       "                                                max_cat_threshold=None,\n",
       "                                                max_cat_to_onehot=None,\n",
       "                                                max_delta_step=None,\n",
       "                                                max_depth=4, max_leaves=None,\n",
       "                                                min_child_weight=None,\n",
       "                                                missing=nan,\n",
       "                                                monotone_constraints=None,\n",
       "                                                multi_strategy=None,\n",
       "                                                n_estimators=750, n_jobs=None,\n",
       "                                                num_parallel_tree=None,\n",
       "                                                random_state=None, ...),\n",
       "                         n_jobs=-1)</pre><b>In a Jupyter environment, please rerun this cell to show the HTML representation or trust the notebook. <br />On GitHub, the HTML representation is unable to render, please try loading this page with nbviewer.org.</b></div><div class=\"sk-container\" hidden><div class=\"sk-item sk-dashed-wrapped\"><div class=\"sk-label-container\"><div class=\"sk-label sk-toggleable\"><input class=\"sk-toggleable__control sk-hidden--visually\" id=\"sk-estimator-id-5\" type=\"checkbox\" ><label for=\"sk-estimator-id-5\" class=\"sk-toggleable__label sk-toggleable__label-arrow\">MapieTimeSeriesRegressor</label><div class=\"sk-toggleable__content\"><pre>MapieTimeSeriesRegressor(cv=BlockBootstrap(length=None, n_blocks=10, n_resamplings=4, overlapping=False,\n",
       "        random_state=69),\n",
       "                         estimator=XGBRegressor(base_score=None, booster=None,\n",
       "                                                callbacks=None,\n",
       "                                                colsample_bylevel=None,\n",
       "                                                colsample_bynode=None,\n",
       "                                                colsample_bytree=None,\n",
       "                                                device=&#x27;cuda&#x27;,\n",
       "                                                early_stopping_rounds=None,\n",
       "                                                enable_categorical=False,\n",
       "                                                eval_metric=[&#x27;mae&#x27;, &#x27;rmse&#x27;],\n",
       "                                                featu...\n",
       "                                                grow_policy=None,\n",
       "                                                importance_type=None,\n",
       "                                                interaction_constraints=None,\n",
       "                                                learning_rate=0.06,\n",
       "                                                max_bin=None,\n",
       "                                                max_cat_threshold=None,\n",
       "                                                max_cat_to_onehot=None,\n",
       "                                                max_delta_step=None,\n",
       "                                                max_depth=4, max_leaves=None,\n",
       "                                                min_child_weight=None,\n",
       "                                                missing=nan,\n",
       "                                                monotone_constraints=None,\n",
       "                                                multi_strategy=None,\n",
       "                                                n_estimators=750, n_jobs=None,\n",
       "                                                num_parallel_tree=None,\n",
       "                                                random_state=None, ...),\n",
       "                         n_jobs=-1)</pre></div></div></div><div class=\"sk-parallel\"><div class=\"sk-parallel-item\"><div class=\"sk-item\"><div class=\"sk-label-container\"><div class=\"sk-label sk-toggleable\"><input class=\"sk-toggleable__control sk-hidden--visually\" id=\"sk-estimator-id-6\" type=\"checkbox\" ><label for=\"sk-estimator-id-6\" class=\"sk-toggleable__label sk-toggleable__label-arrow\">estimator: XGBRegressor</label><div class=\"sk-toggleable__content\"><pre>XGBRegressor(base_score=None, booster=None, callbacks=None,\n",
       "             colsample_bylevel=None, colsample_bynode=None,\n",
       "             colsample_bytree=None, device=&#x27;cuda&#x27;, early_stopping_rounds=None,\n",
       "             enable_categorical=False, eval_metric=[&#x27;mae&#x27;, &#x27;rmse&#x27;],\n",
       "             feature_types=None, gamma=None, grow_policy=None,\n",
       "             importance_type=None, interaction_constraints=None,\n",
       "             learning_rate=0.06, max_bin=None, max_cat_threshold=None,\n",
       "             max_cat_to_onehot=None, max_delta_step=None, max_depth=4,\n",
       "             max_leaves=None, min_child_weight=None, missing=nan,\n",
       "             monotone_constraints=None, multi_strategy=None, n_estimators=750,\n",
       "             n_jobs=None, num_parallel_tree=None, random_state=None, ...)</pre></div></div></div><div class=\"sk-serial\"><div class=\"sk-item\"><div class=\"sk-estimator sk-toggleable\"><input class=\"sk-toggleable__control sk-hidden--visually\" id=\"sk-estimator-id-7\" type=\"checkbox\" ><label for=\"sk-estimator-id-7\" class=\"sk-toggleable__label sk-toggleable__label-arrow\">XGBRegressor</label><div class=\"sk-toggleable__content\"><pre>XGBRegressor(base_score=None, booster=None, callbacks=None,\n",
       "             colsample_bylevel=None, colsample_bynode=None,\n",
       "             colsample_bytree=None, device=&#x27;cuda&#x27;, early_stopping_rounds=None,\n",
       "             enable_categorical=False, eval_metric=[&#x27;mae&#x27;, &#x27;rmse&#x27;],\n",
       "             feature_types=None, gamma=None, grow_policy=None,\n",
       "             importance_type=None, interaction_constraints=None,\n",
       "             learning_rate=0.06, max_bin=None, max_cat_threshold=None,\n",
       "             max_cat_to_onehot=None, max_delta_step=None, max_depth=4,\n",
       "             max_leaves=None, min_child_weight=None, missing=nan,\n",
       "             monotone_constraints=None, multi_strategy=None, n_estimators=750,\n",
       "             n_jobs=None, num_parallel_tree=None, random_state=None, ...)</pre></div></div></div></div></div></div></div></div></div></div>"
      ],
      "text/plain": [
       "MapieTimeSeriesRegressor(cv=BlockBootstrap(length=None, n_blocks=10, n_resamplings=4, overlapping=False,\n",
       "        random_state=69),\n",
       "                         estimator=XGBRegressor(base_score=None, booster=None,\n",
       "                                                callbacks=None,\n",
       "                                                colsample_bylevel=None,\n",
       "                                                colsample_bynode=None,\n",
       "                                                colsample_bytree=None,\n",
       "                                                device='cuda',\n",
       "                                                early_stopping_rounds=None,\n",
       "                                                enable_categorical=False,\n",
       "                                                eval_metric=['mae', 'rmse'],\n",
       "                                                featu...\n",
       "                                                grow_policy=None,\n",
       "                                                importance_type=None,\n",
       "                                                interaction_constraints=None,\n",
       "                                                learning_rate=0.06,\n",
       "                                                max_bin=None,\n",
       "                                                max_cat_threshold=None,\n",
       "                                                max_cat_to_onehot=None,\n",
       "                                                max_delta_step=None,\n",
       "                                                max_depth=4, max_leaves=None,\n",
       "                                                min_child_weight=None,\n",
       "                                                missing=nan,\n",
       "                                                monotone_constraints=None,\n",
       "                                                multi_strategy=None,\n",
       "                                                n_estimators=750, n_jobs=None,\n",
       "                                                num_parallel_tree=None,\n",
       "                                                random_state=None, ...),\n",
       "                         n_jobs=-1)"
      ]
     },
     "execution_count": 31,
     "metadata": {},
     "output_type": "execute_result"
    }
   ],
   "source": [
    "x_calib = np.concatenate((x_train, x_val), axis = 0)\n",
    "y_calib = np.concatenate((y_train, y_val), axis = 0)\n",
    "\n",
    "cfg['n_estimators'] = 300\n",
    "\n",
    "mapie_ts = MapieTimeSeriesRegressor(\n",
    "    model, method=\"enbpi\", cv=cv_mapiets, agg_function=\"mean\", n_jobs=-1\n",
    ")\n",
    "mapie_ts.fit(x_calib, y_calib.squeeze(-1))"
   ]
  },
  {
   "cell_type": "code",
   "execution_count": 33,
   "metadata": {},
   "outputs": [],
   "source": [
    "y_pred, y_pis = mapie_ts.predict(x_test, alpha=alpha)\n",
    "coverage = regression_coverage_score(y_test, y_pis[:, 0, 0], y_pis[:, 1, 0])\n",
    "width = regression_mean_width_score(y_pis[:, 0, 0], y_pis[:, 1, 0])"
   ]
  },
  {
   "cell_type": "code",
   "execution_count": 41,
   "metadata": {},
   "outputs": [
    {
     "data": {
      "text/plain": [
       "109.324455"
      ]
     },
     "execution_count": 41,
     "metadata": {},
     "output_type": "execute_result"
    }
   ],
   "source": [
    "mean_squared_error(mapie_ts.predict(x_test), y_test, squared=False)"
   ]
  },
  {
   "cell_type": "code",
   "execution_count": 40,
   "metadata": {},
   "outputs": [
    {
     "data": {
      "text/plain": [
       "419.9063148498535"
      ]
     },
     "execution_count": 40,
     "metadata": {},
     "output_type": "execute_result"
    }
   ],
   "source": [
    "width"
   ]
  },
  {
   "cell_type": "code",
   "execution_count": 45,
   "metadata": {},
   "outputs": [],
   "source": [
    "xgb_res = {\n",
    "    \"y_pred\": y_pred,\n",
    "    \"y_pis\": y_pis,\n",
    "    \"coverage\": coverage,\n",
    "    \"width\": width,\n",
    "}\n",
    "\n",
    "with open('./results/xgb_dict.pkl', 'wb') as f:\n",
    "    pickle.dump(xgb_res, f)"
   ]
  }
 ],
 "metadata": {
  "kernelspec": {
   "display_name": "Python 3",
   "language": "python",
   "name": "python3"
  },
  "language_info": {
   "codemirror_mode": {
    "name": "ipython",
    "version": 3
   },
   "file_extension": ".py",
   "mimetype": "text/x-python",
   "name": "python",
   "nbconvert_exporter": "python",
   "pygments_lexer": "ipython3",
   "version": "3.10.8"
  }
 },
 "nbformat": 4,
 "nbformat_minor": 2
}
