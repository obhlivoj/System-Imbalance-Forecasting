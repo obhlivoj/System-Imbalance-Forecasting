{
 "cells": [
  {
   "cell_type": "code",
   "execution_count": 1,
   "metadata": {},
   "outputs": [],
   "source": [
    "import torch\n",
    "import os\n",
    "import numpy as np\n",
    "import pandas as pd\n",
    "import pickle\n",
    "\n",
    "from config import get_config\n",
    "from transformer_dataset import TSDataset, prepare_time_series_data, scale_data_seq, create_lags, get_train_test_set\n",
    "\n",
    "from train import get_ds"
   ]
  },
  {
   "cell_type": "code",
   "execution_count": 3,
   "metadata": {},
   "outputs": [],
   "source": [
    "config = get_config()\n",
    "#train, val, _ = get_ds(config)"
   ]
  },
  {
   "cell_type": "code",
   "execution_count": 2,
   "metadata": {},
   "outputs": [],
   "source": [
    "config = get_config()\n",
    "\n",
    "with open(os.path.join(config[\"path_pickle\"], config[\"data_pickle_name\"]), 'rb') as file:\n",
    "        ds_raw = pickle.load(file)\n",
    "ds_lags, new_vars = create_lags(ds_raw, config[\"lags\"], config[\"diffs\"])\n",
    "\n",
    "# add new lagged variables to the exo_vars in config\n",
    "config[\"exo_vars\"] += new_vars\n",
    "if config[\"forward_vars\"]:\n",
    "    config[\"forward_vars\"] += new_vars\n",
    "\n",
    "# train-val split\n",
    "data_train = ds_lags[lambda x: x.datetime_utc <=\n",
    "                        pd.Timestamp(config[\"train_split\"])].copy()\n",
    "data_train = data_train.fillna(data_train.median(numeric_only=True))\n",
    "\n",
    "data_val = ds_lags[lambda x: (pd.Timestamp(config[\"train_split\"]) < x.datetime_utc) & (\n",
    "    x.datetime_utc <= pd.Timestamp(config[\"test_split\"]))].copy()\n",
    "data_val = data_val.fillna(data_train.median(numeric_only=True))\n",
    "\n",
    "data_test = ds_lags[lambda x: x.datetime_utc >\n",
    "                    pd.Timestamp(config[\"test_split\"])].copy()\n",
    "data_test = data_test.fillna(data_train.median(numeric_only=True))\n",
    "\n",
    "train_data_raw, train_data_tensor = prepare_time_series_data(\n",
    "    data_train, config)\n",
    "val_data_raw, _ = prepare_time_series_data(data_val, config)\n",
    "test_data_raw, _ = prepare_time_series_data(data_test, config)\n",
    "\n",
    "data_to_scale = {\n",
    "    \"train\": train_data_raw,\n",
    "    \"val\": val_data_raw,\n",
    "    \"test\": test_data_raw,\n",
    "}\n",
    "\n",
    "data_scaled = scale_data_seq(config, train_data_tensor, data_to_scale)\n",
    "train_scl, val_scl, test_scl = data_scaled\n",
    "\n",
    "train_ds = TSDataset(\n",
    "    train_scl, config['src_seq_len'], config['tgt_seq_len'])\n",
    "val_ds = TSDataset(val_scl, config['src_seq_len'], config['tgt_seq_len'])\n",
    "test_ds = TSDataset(test_scl, config['src_seq_len'], config['tgt_seq_len'])\n",
    "\n",
    "train = get_train_test_set(train_ds)\n",
    "val = get_train_test_set(val_ds)\n",
    "test = get_train_test_set(test_ds)\n"
   ]
  },
  {
   "cell_type": "code",
   "execution_count": 17,
   "metadata": {},
   "outputs": [
    {
     "data": {
      "text/html": [
       "<div>\n",
       "<style scoped>\n",
       "    .dataframe tbody tr th:only-of-type {\n",
       "        vertical-align: middle;\n",
       "    }\n",
       "\n",
       "    .dataframe tbody tr th {\n",
       "        vertical-align: top;\n",
       "    }\n",
       "\n",
       "    .dataframe thead th {\n",
       "        text-align: right;\n",
       "    }\n",
       "</style>\n",
       "<table border=\"1\" class=\"dataframe\">\n",
       "  <thead>\n",
       "    <tr style=\"text-align: right;\">\n",
       "      <th></th>\n",
       "      <th>datetime_utc</th>\n",
       "      <th>holiday</th>\n",
       "      <th>not_working</th>\n",
       "      <th>net_regulation_volume</th>\n",
       "      <th>system_imbalance</th>\n",
       "      <th>alpha</th>\n",
       "      <th>marginal_incremental_price</th>\n",
       "      <th>marginal_decremental_price</th>\n",
       "      <th>positive_imbalance_price</th>\n",
       "      <th>negative_imbalance_price</th>\n",
       "      <th>...</th>\n",
       "      <th>day_cos</th>\n",
       "      <th>hour_sin</th>\n",
       "      <th>hour_cos</th>\n",
       "      <th>quarter_hour_sin</th>\n",
       "      <th>quarter_hour_cos</th>\n",
       "      <th>weekday</th>\n",
       "      <th>weekday_sin</th>\n",
       "      <th>weekday_cos</th>\n",
       "      <th>system_imbalance_lag88</th>\n",
       "      <th>system_imbalance_lag664</th>\n",
       "    </tr>\n",
       "  </thead>\n",
       "  <tbody>\n",
       "    <tr>\n",
       "      <th>699</th>\n",
       "      <td>2022-01-08 05:45:00</td>\n",
       "      <td>0.0</td>\n",
       "      <td>1.0</td>\n",
       "      <td>40.155</td>\n",
       "      <td>15.091</td>\n",
       "      <td>0.0</td>\n",
       "      <td>353.70</td>\n",
       "      <td>69.53</td>\n",
       "      <td>69.53</td>\n",
       "      <td>69.53</td>\n",
       "      <td>...</td>\n",
       "      <td>0.990532</td>\n",
       "      <td>0.965926</td>\n",
       "      <td>2.588190e-01</td>\n",
       "      <td>-1.0</td>\n",
       "      <td>-1.836970e-16</td>\n",
       "      <td>5</td>\n",
       "      <td>0.781831</td>\n",
       "      <td>0.62349</td>\n",
       "      <td>-202.254</td>\n",
       "      <td>-3.881</td>\n",
       "    </tr>\n",
       "    <tr>\n",
       "      <th>700</th>\n",
       "      <td>2022-01-08 06:00:00</td>\n",
       "      <td>0.0</td>\n",
       "      <td>1.0</td>\n",
       "      <td>-72.530</td>\n",
       "      <td>104.756</td>\n",
       "      <td>0.0</td>\n",
       "      <td>210.38</td>\n",
       "      <td>0.82</td>\n",
       "      <td>0.82</td>\n",
       "      <td>0.82</td>\n",
       "      <td>...</td>\n",
       "      <td>0.990532</td>\n",
       "      <td>1.000000</td>\n",
       "      <td>6.123234e-17</td>\n",
       "      <td>0.0</td>\n",
       "      <td>1.000000e+00</td>\n",
       "      <td>5</td>\n",
       "      <td>0.781831</td>\n",
       "      <td>0.62349</td>\n",
       "      <td>106.488</td>\n",
       "      <td>-3.083</td>\n",
       "    </tr>\n",
       "  </tbody>\n",
       "</table>\n",
       "<p>2 rows × 45 columns</p>\n",
       "</div>"
      ],
      "text/plain": [
       "           datetime_utc  holiday  not_working  net_regulation_volume  \\\n",
       "699 2022-01-08 05:45:00      0.0          1.0                 40.155   \n",
       "700 2022-01-08 06:00:00      0.0          1.0                -72.530   \n",
       "\n",
       "     system_imbalance  alpha  marginal_incremental_price  \\\n",
       "699            15.091    0.0                      353.70   \n",
       "700           104.756    0.0                      210.38   \n",
       "\n",
       "     marginal_decremental_price  positive_imbalance_price  \\\n",
       "699                       69.53                     69.53   \n",
       "700                        0.82                      0.82   \n",
       "\n",
       "     negative_imbalance_price  ...   day_cos  hour_sin      hour_cos  \\\n",
       "699                     69.53  ...  0.990532  0.965926  2.588190e-01   \n",
       "700                      0.82  ...  0.990532  1.000000  6.123234e-17   \n",
       "\n",
       "     quarter_hour_sin  quarter_hour_cos  weekday  weekday_sin  weekday_cos  \\\n",
       "699              -1.0     -1.836970e-16        5     0.781831      0.62349   \n",
       "700               0.0      1.000000e+00        5     0.781831      0.62349   \n",
       "\n",
       "     system_imbalance_lag88  system_imbalance_lag664  \n",
       "699                -202.254                   -3.881  \n",
       "700                 106.488                   -3.083  \n",
       "\n",
       "[2 rows x 45 columns]"
      ]
     },
     "execution_count": 17,
     "metadata": {},
     "output_type": "execute_result"
    }
   ],
   "source": [
    "data_train[31:33]"
   ]
  },
  {
   "cell_type": "code",
   "execution_count": 9,
   "metadata": {},
   "outputs": [],
   "source": [
    "import xgboost as xgb\n",
    "\n",
    "device = torch.device(\"cuda\" if torch.cuda.is_available() else \"cpu\")\n",
    "\n",
    "params = {\n",
    "    'objective': 'reg:squarederror',  \n",
    "    'max_depth': 8,\n",
    "    'learning_rate': 10**-1,\n",
    "    'n_estimators': 300,\n",
    "    'early_stopping_rounds': config['early_stopping_rounds'],\n",
    "    'eval_metric': [\"rmse\", \"mae\"]\n",
    "    }\n",
    "if device.type == 'cuda':\n",
    "    model = xgb.XGBRegressor(**params, tree_method=\"hist\", device=\"cuda\")\n",
    "else:\n",
    "    model = xgb.XGBRegressor(**params)"
   ]
  },
  {
   "cell_type": "code",
   "execution_count": 10,
   "metadata": {},
   "outputs": [
    {
     "name": "stdout",
     "output_type": "stream",
     "text": [
      "[0]\tvalidation_0-rmse:173.07191\tvalidation_0-mae:127.47127\tvalidation_1-rmse:162.03979\tvalidation_1-mae:115.02343\n",
      "[1]\tvalidation_0-rmse:164.68797\tvalidation_0-mae:121.58218\tvalidation_1-rmse:154.67013\tvalidation_1-mae:109.89615\n",
      "[2]\tvalidation_0-rmse:157.40164\tvalidation_0-mae:116.50534\tvalidation_1-rmse:148.42401\tvalidation_1-mae:105.78648\n",
      "[3]\tvalidation_0-rmse:151.03975\tvalidation_0-mae:112.12298\tvalidation_1-rmse:143.20554\tvalidation_1-mae:102.32471\n",
      "[4]\tvalidation_0-rmse:145.44987\tvalidation_0-mae:108.27051\tvalidation_1-rmse:138.58148\tvalidation_1-mae:99.37437\n",
      "[5]\tvalidation_0-rmse:140.62026\tvalidation_0-mae:104.94428\tvalidation_1-rmse:134.71934\tvalidation_1-mae:96.91256\n",
      "[6]\tvalidation_0-rmse:136.37256\tvalidation_0-mae:102.06554\tvalidation_1-rmse:131.31265\tvalidation_1-mae:94.77115\n",
      "[7]\tvalidation_0-rmse:132.67255\tvalidation_0-mae:99.57403\tvalidation_1-rmse:128.68552\tvalidation_1-mae:93.06117\n",
      "[8]\tvalidation_0-rmse:129.41535\tvalidation_0-mae:97.32775\tvalidation_1-rmse:126.39259\tvalidation_1-mae:91.62842\n",
      "[9]\tvalidation_0-rmse:126.50684\tvalidation_0-mae:95.32727\tvalidation_1-rmse:124.39913\tvalidation_1-mae:90.36709\n",
      "[10]\tvalidation_0-rmse:124.06011\tvalidation_0-mae:93.65499\tvalidation_1-rmse:122.82061\tvalidation_1-mae:89.40915\n",
      "[11]\tvalidation_0-rmse:121.87916\tvalidation_0-mae:92.18797\tvalidation_1-rmse:121.46374\tvalidation_1-mae:88.57194\n",
      "[12]\tvalidation_0-rmse:119.93933\tvalidation_0-mae:90.86714\tvalidation_1-rmse:120.31877\tvalidation_1-mae:87.86886\n",
      "[13]\tvalidation_0-rmse:118.11706\tvalidation_0-mae:89.63805\tvalidation_1-rmse:119.40729\tvalidation_1-mae:87.28832\n",
      "[14]\tvalidation_0-rmse:116.55126\tvalidation_0-mae:88.55937\tvalidation_1-rmse:118.70201\tvalidation_1-mae:86.85634\n",
      "[15]\tvalidation_0-rmse:115.13639\tvalidation_0-mae:87.58145\tvalidation_1-rmse:118.05498\tvalidation_1-mae:86.44549\n",
      "[16]\tvalidation_0-rmse:113.78210\tvalidation_0-mae:86.68134\tvalidation_1-rmse:117.48992\tvalidation_1-mae:86.09758\n",
      "[17]\tvalidation_0-rmse:112.55733\tvalidation_0-mae:85.81788\tvalidation_1-rmse:116.98610\tvalidation_1-mae:85.80276\n",
      "[18]\tvalidation_0-rmse:111.48467\tvalidation_0-mae:85.05797\tvalidation_1-rmse:116.62066\tvalidation_1-mae:85.55090\n",
      "[19]\tvalidation_0-rmse:110.46249\tvalidation_0-mae:84.36244\tvalidation_1-rmse:116.34311\tvalidation_1-mae:85.38155\n",
      "[20]\tvalidation_0-rmse:109.49930\tvalidation_0-mae:83.70511\tvalidation_1-rmse:116.04022\tvalidation_1-mae:85.22777\n",
      "[21]\tvalidation_0-rmse:108.64021\tvalidation_0-mae:83.10712\tvalidation_1-rmse:115.84749\tvalidation_1-mae:85.14337\n",
      "[22]\tvalidation_0-rmse:107.81959\tvalidation_0-mae:82.53409\tvalidation_1-rmse:115.76905\tvalidation_1-mae:85.10448\n",
      "[23]\tvalidation_0-rmse:107.05800\tvalidation_0-mae:82.00813\tvalidation_1-rmse:115.58149\tvalidation_1-mae:85.01023\n",
      "[24]\tvalidation_0-rmse:106.35882\tvalidation_0-mae:81.50498\tvalidation_1-rmse:115.43637\tvalidation_1-mae:84.93826\n",
      "[25]\tvalidation_0-rmse:105.59728\tvalidation_0-mae:80.97119\tvalidation_1-rmse:115.36089\tvalidation_1-mae:84.89179\n",
      "[26]\tvalidation_0-rmse:104.83734\tvalidation_0-mae:80.41462\tvalidation_1-rmse:115.22244\tvalidation_1-mae:84.81493\n",
      "[27]\tvalidation_0-rmse:104.10712\tvalidation_0-mae:79.89443\tvalidation_1-rmse:115.09648\tvalidation_1-mae:84.73726\n",
      "[28]\tvalidation_0-rmse:103.44826\tvalidation_0-mae:79.43592\tvalidation_1-rmse:115.01366\tvalidation_1-mae:84.72880\n",
      "[29]\tvalidation_0-rmse:102.83665\tvalidation_0-mae:78.98887\tvalidation_1-rmse:114.93872\tvalidation_1-mae:84.68089\n",
      "[30]\tvalidation_0-rmse:102.20213\tvalidation_0-mae:78.54175\tvalidation_1-rmse:114.89728\tvalidation_1-mae:84.65531\n",
      "[31]\tvalidation_0-rmse:101.56294\tvalidation_0-mae:78.08554\tvalidation_1-rmse:114.80974\tvalidation_1-mae:84.60130\n",
      "[32]\tvalidation_0-rmse:100.99809\tvalidation_0-mae:77.68278\tvalidation_1-rmse:114.71949\tvalidation_1-mae:84.53140\n",
      "[33]\tvalidation_0-rmse:100.36908\tvalidation_0-mae:77.22770\tvalidation_1-rmse:114.70155\tvalidation_1-mae:84.50506\n",
      "[34]\tvalidation_0-rmse:99.71368\tvalidation_0-mae:76.75415\tvalidation_1-rmse:114.65192\tvalidation_1-mae:84.47802\n",
      "[35]\tvalidation_0-rmse:99.23090\tvalidation_0-mae:76.41082\tvalidation_1-rmse:114.59500\tvalidation_1-mae:84.45241\n",
      "[36]\tvalidation_0-rmse:98.83077\tvalidation_0-mae:76.12799\tvalidation_1-rmse:114.54649\tvalidation_1-mae:84.41837\n",
      "[37]\tvalidation_0-rmse:98.43598\tvalidation_0-mae:75.84162\tvalidation_1-rmse:114.54498\tvalidation_1-mae:84.41197\n",
      "[38]\tvalidation_0-rmse:97.83816\tvalidation_0-mae:75.40071\tvalidation_1-rmse:114.45436\tvalidation_1-mae:84.35636\n",
      "[39]\tvalidation_0-rmse:97.39303\tvalidation_0-mae:75.08029\tvalidation_1-rmse:114.38634\tvalidation_1-mae:84.33937\n",
      "[40]\tvalidation_0-rmse:96.95100\tvalidation_0-mae:74.75246\tvalidation_1-rmse:114.40767\tvalidation_1-mae:84.36868\n",
      "[41]\tvalidation_0-rmse:96.59029\tvalidation_0-mae:74.48950\tvalidation_1-rmse:114.33070\tvalidation_1-mae:84.30360\n",
      "[42]\tvalidation_0-rmse:96.17948\tvalidation_0-mae:74.20688\tvalidation_1-rmse:114.33078\tvalidation_1-mae:84.32456\n",
      "[43]\tvalidation_0-rmse:95.81227\tvalidation_0-mae:73.93304\tvalidation_1-rmse:114.32352\tvalidation_1-mae:84.31545\n",
      "[44]\tvalidation_0-rmse:95.33339\tvalidation_0-mae:73.58529\tvalidation_1-rmse:114.31655\tvalidation_1-mae:84.34919\n",
      "[45]\tvalidation_0-rmse:94.95652\tvalidation_0-mae:73.31373\tvalidation_1-rmse:114.34944\tvalidation_1-mae:84.36919\n",
      "[46]\tvalidation_0-rmse:94.55372\tvalidation_0-mae:73.01728\tvalidation_1-rmse:114.34685\tvalidation_1-mae:84.37753\n",
      "[47]\tvalidation_0-rmse:94.20701\tvalidation_0-mae:72.74881\tvalidation_1-rmse:114.33361\tvalidation_1-mae:84.37940\n",
      "[48]\tvalidation_0-rmse:93.91560\tvalidation_0-mae:72.54330\tvalidation_1-rmse:114.30473\tvalidation_1-mae:84.36403\n",
      "[49]\tvalidation_0-rmse:93.62102\tvalidation_0-mae:72.33050\tvalidation_1-rmse:114.31259\tvalidation_1-mae:84.37769\n",
      "[50]\tvalidation_0-rmse:93.39823\tvalidation_0-mae:72.16151\tvalidation_1-rmse:114.31391\tvalidation_1-mae:84.39840\n",
      "[51]\tvalidation_0-rmse:93.06094\tvalidation_0-mae:71.90991\tvalidation_1-rmse:114.34150\tvalidation_1-mae:84.43073\n",
      "[52]\tvalidation_0-rmse:92.58152\tvalidation_0-mae:71.56706\tvalidation_1-rmse:114.29879\tvalidation_1-mae:84.39795\n",
      "[53]\tvalidation_0-rmse:92.24736\tvalidation_0-mae:71.30249\tvalidation_1-rmse:114.27223\tvalidation_1-mae:84.39005\n",
      "[54]\tvalidation_0-rmse:92.08443\tvalidation_0-mae:71.16564\tvalidation_1-rmse:114.26274\tvalidation_1-mae:84.38317\n",
      "[55]\tvalidation_0-rmse:91.85276\tvalidation_0-mae:71.00376\tvalidation_1-rmse:114.27337\tvalidation_1-mae:84.38405\n",
      "[56]\tvalidation_0-rmse:91.78042\tvalidation_0-mae:70.94781\tvalidation_1-rmse:114.26528\tvalidation_1-mae:84.39594\n",
      "[57]\tvalidation_0-rmse:91.35189\tvalidation_0-mae:70.64599\tvalidation_1-rmse:114.30756\tvalidation_1-mae:84.42540\n",
      "[58]\tvalidation_0-rmse:91.03875\tvalidation_0-mae:70.41739\tvalidation_1-rmse:114.25880\tvalidation_1-mae:84.39987\n",
      "[59]\tvalidation_0-rmse:90.72983\tvalidation_0-mae:70.18615\tvalidation_1-rmse:114.23203\tvalidation_1-mae:84.38435\n",
      "[60]\tvalidation_0-rmse:90.57779\tvalidation_0-mae:70.06241\tvalidation_1-rmse:114.23060\tvalidation_1-mae:84.38282\n",
      "[61]\tvalidation_0-rmse:90.37902\tvalidation_0-mae:69.89758\tvalidation_1-rmse:114.26048\tvalidation_1-mae:84.40852\n",
      "[62]\tvalidation_0-rmse:90.05906\tvalidation_0-mae:69.64393\tvalidation_1-rmse:114.27308\tvalidation_1-mae:84.41181\n",
      "[63]\tvalidation_0-rmse:89.82528\tvalidation_0-mae:69.45992\tvalidation_1-rmse:114.27750\tvalidation_1-mae:84.41871\n",
      "[64]\tvalidation_0-rmse:89.59546\tvalidation_0-mae:69.28255\tvalidation_1-rmse:114.25961\tvalidation_1-mae:84.41390\n",
      "[65]\tvalidation_0-rmse:89.46523\tvalidation_0-mae:69.18273\tvalidation_1-rmse:114.25807\tvalidation_1-mae:84.41424\n",
      "[66]\tvalidation_0-rmse:89.21150\tvalidation_0-mae:68.99341\tvalidation_1-rmse:114.24686\tvalidation_1-mae:84.39628\n"
     ]
    },
    {
     "data": {
      "text/html": [
       "<style>#sk-container-id-2 {color: black;background-color: white;}#sk-container-id-2 pre{padding: 0;}#sk-container-id-2 div.sk-toggleable {background-color: white;}#sk-container-id-2 label.sk-toggleable__label {cursor: pointer;display: block;width: 100%;margin-bottom: 0;padding: 0.3em;box-sizing: border-box;text-align: center;}#sk-container-id-2 label.sk-toggleable__label-arrow:before {content: \"▸\";float: left;margin-right: 0.25em;color: #696969;}#sk-container-id-2 label.sk-toggleable__label-arrow:hover:before {color: black;}#sk-container-id-2 div.sk-estimator:hover label.sk-toggleable__label-arrow:before {color: black;}#sk-container-id-2 div.sk-toggleable__content {max-height: 0;max-width: 0;overflow: hidden;text-align: left;background-color: #f0f8ff;}#sk-container-id-2 div.sk-toggleable__content pre {margin: 0.2em;color: black;border-radius: 0.25em;background-color: #f0f8ff;}#sk-container-id-2 input.sk-toggleable__control:checked~div.sk-toggleable__content {max-height: 200px;max-width: 100%;overflow: auto;}#sk-container-id-2 input.sk-toggleable__control:checked~label.sk-toggleable__label-arrow:before {content: \"▾\";}#sk-container-id-2 div.sk-estimator input.sk-toggleable__control:checked~label.sk-toggleable__label {background-color: #d4ebff;}#sk-container-id-2 div.sk-label input.sk-toggleable__control:checked~label.sk-toggleable__label {background-color: #d4ebff;}#sk-container-id-2 input.sk-hidden--visually {border: 0;clip: rect(1px 1px 1px 1px);clip: rect(1px, 1px, 1px, 1px);height: 1px;margin: -1px;overflow: hidden;padding: 0;position: absolute;width: 1px;}#sk-container-id-2 div.sk-estimator {font-family: monospace;background-color: #f0f8ff;border: 1px dotted black;border-radius: 0.25em;box-sizing: border-box;margin-bottom: 0.5em;}#sk-container-id-2 div.sk-estimator:hover {background-color: #d4ebff;}#sk-container-id-2 div.sk-parallel-item::after {content: \"\";width: 100%;border-bottom: 1px solid gray;flex-grow: 1;}#sk-container-id-2 div.sk-label:hover label.sk-toggleable__label {background-color: #d4ebff;}#sk-container-id-2 div.sk-serial::before {content: \"\";position: absolute;border-left: 1px solid gray;box-sizing: border-box;top: 0;bottom: 0;left: 50%;z-index: 0;}#sk-container-id-2 div.sk-serial {display: flex;flex-direction: column;align-items: center;background-color: white;padding-right: 0.2em;padding-left: 0.2em;position: relative;}#sk-container-id-2 div.sk-item {position: relative;z-index: 1;}#sk-container-id-2 div.sk-parallel {display: flex;align-items: stretch;justify-content: center;background-color: white;position: relative;}#sk-container-id-2 div.sk-item::before, #sk-container-id-2 div.sk-parallel-item::before {content: \"\";position: absolute;border-left: 1px solid gray;box-sizing: border-box;top: 0;bottom: 0;left: 50%;z-index: -1;}#sk-container-id-2 div.sk-parallel-item {display: flex;flex-direction: column;z-index: 1;position: relative;background-color: white;}#sk-container-id-2 div.sk-parallel-item:first-child::after {align-self: flex-end;width: 50%;}#sk-container-id-2 div.sk-parallel-item:last-child::after {align-self: flex-start;width: 50%;}#sk-container-id-2 div.sk-parallel-item:only-child::after {width: 0;}#sk-container-id-2 div.sk-dashed-wrapped {border: 1px dashed gray;margin: 0 0.4em 0.5em 0.4em;box-sizing: border-box;padding-bottom: 0.4em;background-color: white;}#sk-container-id-2 div.sk-label label {font-family: monospace;font-weight: bold;display: inline-block;line-height: 1.2em;}#sk-container-id-2 div.sk-label-container {text-align: center;}#sk-container-id-2 div.sk-container {/* jupyter's `normalize.less` sets `[hidden] { display: none; }` but bootstrap.min.css set `[hidden] { display: none !important; }` so we also need the `!important` here to be able to override the default hidden behavior on the sphinx rendered scikit-learn.org. See: https://github.com/scikit-learn/scikit-learn/issues/21755 */display: inline-block !important;position: relative;}#sk-container-id-2 div.sk-text-repr-fallback {display: none;}</style><div id=\"sk-container-id-2\" class=\"sk-top-container\"><div class=\"sk-text-repr-fallback\"><pre>XGBRegressor(base_score=None, booster=None, callbacks=None,\n",
       "             colsample_bylevel=None, colsample_bynode=None,\n",
       "             colsample_bytree=None, early_stopping_rounds=25,\n",
       "             enable_categorical=False, eval_metric=[&#x27;rmse&#x27;, &#x27;mae&#x27;],\n",
       "             feature_types=None, gamma=None, gpu_id=None, grow_policy=None,\n",
       "             importance_type=None, interaction_constraints=None,\n",
       "             learning_rate=0.1, max_bin=None, max_cat_threshold=None,\n",
       "             max_cat_to_onehot=None, max_delta_step=None, max_depth=8,\n",
       "             max_leaves=None, min_child_weight=None, missing=nan,\n",
       "             monotone_constraints=None, n_estimators=300, n_jobs=None,\n",
       "             num_parallel_tree=None, predictor=None, random_state=None, ...)</pre><b>In a Jupyter environment, please rerun this cell to show the HTML representation or trust the notebook. <br />On GitHub, the HTML representation is unable to render, please try loading this page with nbviewer.org.</b></div><div class=\"sk-container\" hidden><div class=\"sk-item\"><div class=\"sk-estimator sk-toggleable\"><input class=\"sk-toggleable__control sk-hidden--visually\" id=\"sk-estimator-id-2\" type=\"checkbox\" checked><label for=\"sk-estimator-id-2\" class=\"sk-toggleable__label sk-toggleable__label-arrow\">XGBRegressor</label><div class=\"sk-toggleable__content\"><pre>XGBRegressor(base_score=None, booster=None, callbacks=None,\n",
       "             colsample_bylevel=None, colsample_bynode=None,\n",
       "             colsample_bytree=None, early_stopping_rounds=25,\n",
       "             enable_categorical=False, eval_metric=[&#x27;rmse&#x27;, &#x27;mae&#x27;],\n",
       "             feature_types=None, gamma=None, gpu_id=None, grow_policy=None,\n",
       "             importance_type=None, interaction_constraints=None,\n",
       "             learning_rate=0.1, max_bin=None, max_cat_threshold=None,\n",
       "             max_cat_to_onehot=None, max_delta_step=None, max_depth=8,\n",
       "             max_leaves=None, min_child_weight=None, missing=nan,\n",
       "             monotone_constraints=None, n_estimators=300, n_jobs=None,\n",
       "             num_parallel_tree=None, predictor=None, random_state=None, ...)</pre></div></div></div></div></div>"
      ],
      "text/plain": [
       "XGBRegressor(base_score=None, booster=None, callbacks=None,\n",
       "             colsample_bylevel=None, colsample_bynode=None,\n",
       "             colsample_bytree=None, early_stopping_rounds=25,\n",
       "             enable_categorical=False, eval_metric=['rmse', 'mae'],\n",
       "             feature_types=None, gamma=None, gpu_id=None, grow_policy=None,\n",
       "             importance_type=None, interaction_constraints=None,\n",
       "             learning_rate=0.1, max_bin=None, max_cat_threshold=None,\n",
       "             max_cat_to_onehot=None, max_delta_step=None, max_depth=8,\n",
       "             max_leaves=None, min_child_weight=None, missing=nan,\n",
       "             monotone_constraints=None, n_estimators=300, n_jobs=None,\n",
       "             num_parallel_tree=None, predictor=None, random_state=None, ...)"
      ]
     },
     "execution_count": 10,
     "metadata": {},
     "output_type": "execute_result"
    }
   ],
   "source": [
    "x_train, y_train, _ = train\n",
    "x_val, y_val, _ = val\n",
    "model.fit(x_train, y_train, \n",
    "          eval_set=[(x_train, y_train), (x_val, y_val)], verbose=True)       "
   ]
  },
  {
   "cell_type": "code",
   "execution_count": 2,
   "metadata": {},
   "outputs": [],
   "source": [
    "cfg = get_config()\n",
    "train_dataloader, val_dataloader = get_ds(cfg)"
   ]
  },
  {
   "cell_type": "code",
   "execution_count": 3,
   "metadata": {},
   "outputs": [],
   "source": [
    "in_dim = len(cfg[\"exo_vars\"] + cfg[\"target\"])*cfg[\"src_seq_len\"]\n",
    "optimus = MLP(in_dim, cfg[\"hidden_dim\"], cfg[\"tgt_seq_len\"])\n",
    "batch_size = 64\n",
    "\n",
    "num_features = len(cfg[\"exo_vars\"] + cfg[\"target\"])\n",
    "in_seq = cfg[\"src_seq_len\"]\n",
    "out_seq = cfg[\"tgt_seq_len\"]\n",
    "\n",
    "X = torch.rand(batch_size, in_seq, num_features)\n",
    "y = torch.rand(batch_size, out_seq)"
   ]
  },
  {
   "cell_type": "code",
   "execution_count": 19,
   "metadata": {},
   "outputs": [
    {
     "data": {
      "text/plain": [
       "torch.Size([64, 2624])"
      ]
     },
     "execution_count": 19,
     "metadata": {},
     "output_type": "execute_result"
    }
   ],
   "source": [
    "X.view(-1, in_dim).shape"
   ]
  },
  {
   "cell_type": "code",
   "execution_count": 21,
   "metadata": {},
   "outputs": [],
   "source": [
    "output = optimus(X.view(-1, in_dim))"
   ]
  },
  {
   "cell_type": "code",
   "execution_count": 8,
   "metadata": {},
   "outputs": [],
   "source": [
    "seq_datapoint = {\n",
    "    \"true\": torch.rand(8, out_seq).numpy(),\n",
    "    \"pred\": torch.rand(8, out_seq).numpy(),\n",
    "    \"hist\": torch.rand(in_seq, 1).numpy()\n",
    "}"
   ]
  },
  {
   "cell_type": "code",
   "execution_count": 7,
   "metadata": {},
   "outputs": [],
   "source": [
    "import matplotlib.pyplot as plt\n",
    "from sklearn.metrics import r2_score, mean_squared_error, mean_absolute_error"
   ]
  },
  {
   "cell_type": "code",
   "execution_count": 32,
   "metadata": {},
   "outputs": [],
   "source": [
    "def plot_results(seq_datapoint: dict, num_models: int, history_len: int) -> plt.figure:\n",
    "    d0 = [i for i in range(history_len)]\n",
    "    d = [i for i in range(history_len, history_len+num_models)]\n",
    "\n",
    "    fig, ax = plt.subplots()\n",
    "    ax.plot(d0, seq_datapoint['hist'], label=\"History\", color='g')\n",
    "\n",
    "    if num_models == 1:\n",
    "        ax.plot(d, seq_datapoint['true'], label=\"Ground Truth\", marker='o', color='b')\n",
    "        ax.plot(d, seq_datapoint['pred'], label=\"Predicted\", marker='o', color='r')\n",
    "    else:\n",
    "        ax.plot(d, seq_datapoint['true'], label=\"Ground Truth\", color='b')\n",
    "        ax.plot(d, seq_datapoint['pred'], label=\"Predicted\", color='r')\n",
    "\n",
    "    # Add loss\n",
    "    rmse_loss = mean_squared_error(seq_datapoint['true'], seq_datapoint['pred'], squared=False)\n",
    "    mae_loss = mean_absolute_error(seq_datapoint['true'], seq_datapoint['pred'])\n",
    "\n",
    "    ax.text(-1, 1, f'RMSE: {rmse_loss:.2f}', fontsize=12, ha='left')\n",
    "    ax.text(-1, 0.95, f'MAE: {mae_loss:.2f}', fontsize=12, ha='left')\n",
    "\n",
    "    # Add labels and legend\n",
    "    ax.set_xlabel(\"Index\")\n",
    "    ax.set_ylabel(\"Value\")\n",
    "    ax.legend()\n",
    "\n",
    "    # Return the figure\n",
    "    return fig"
   ]
  },
  {
   "cell_type": "code",
   "execution_count": 33,
   "metadata": {},
   "outputs": [
    {
     "data": {
      "image/png": "[encoded data removed]",
      "text/plain": [
       "<Figure size 640x480 with 1 Axes>"
      ]
     },
     "metadata": {},
     "output_type": "display_data"
    }
   ],
   "source": [
    "f = plot_results(seq_datapoint, 8, 32)"
   ]
  }
 ],
 "metadata": {
  "kernelspec": {
   "display_name": "Python 3",
   "language": "python",
   "name": "python3"
  },
  "language_info": {
   "codemirror_mode": {
    "name": "ipython",
    "version": 3
   },
   "file_extension": ".py",
   "mimetype": "text/x-python",
   "name": "python",
   "nbconvert_exporter": "python",
   "pygments_lexer": "ipython3",
   "version": "3.10.8"
  },
  "orig_nbformat": 4
 },
 "nbformat": 4,
 "nbformat_minor": 2
}
